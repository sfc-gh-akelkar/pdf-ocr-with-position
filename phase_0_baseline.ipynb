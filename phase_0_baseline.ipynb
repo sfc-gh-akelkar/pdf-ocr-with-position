{
  "cells": [
    {
      "cell_type": "markdown",
      "metadata": {},
      "source": [
        "# Phase 0: PDF OCR with Position Tracking - Baseline\n",
        "\n",
        "## Overview\n",
        "This notebook implements the **baseline solution** provided by the Snowflake FCTO for extracting text from PDFs while capturing position information.\n",
        "\n",
        "### What This Does:\n",
        "- Extracts text from PDF documents stored in Snowflake stages\n",
        "- Captures the **x,y coordinates** of each text box on the page\n",
        "- Returns structured data: `{pos: (x,y), txt: text}`\n",
        "\n",
        "### Customer Requirement This Addresses:\n",
        "✅ **Document Intelligence - positioning capability** - knows where text appears on the page\n",
        "\n",
        "### What's Missing (Future Phases):\n",
        "- ❌ Page numbers\n",
        "- ❌ Section detection\n",
        "- ❌ Better chunking\n",
        "- ❌ LLM integration\n",
        "- ❌ Citation system\n",
        "\n",
        "---\n"
      ]
    },
    {
      "cell_type": "markdown",
      "metadata": {},
      "source": [
        "## Step 1: Environment Setup\n",
        "\n",
        "Set up the Snowflake environment with appropriate roles and context.\n"
      ]
    },
    {
      "cell_type": "code",
      "execution_count": null,
      "metadata": {
        "vscode": {
          "languageId": "sql"
        }
      },
      "outputs": [],
      "source": [
        "-- Use administrative role to grant permissions\n",
        "USE ROLE accountadmin;\n"
      ]
    },
    {
      "cell_type": "code",
      "execution_count": null,
      "metadata": {
        "vscode": {
          "languageId": "sql"
        }
      },
      "outputs": [],
      "source": [
        "-- Grant access to PyPI packages (needed for pdfminer library)\n",
        "GRANT DATABASE ROLE SNOWFLAKE.PYPI_REPOSITORY_USER TO ROLE sysadmin;\n"
      ]
    },
    {
      "cell_type": "code",
      "execution_count": null,
      "metadata": {
        "vscode": {
          "languageId": "sql"
        }
      },
      "outputs": [],
      "source": [
        "-- Switch to sysadmin role for creating objects\n",
        "USE ROLE sysadmin;\n"
      ]
    },
    {
      "cell_type": "markdown",
      "metadata": {},
      "source": [
        "## Step 2: Database and Schema Setup\n",
        "\n",
        "Create or use an existing database and schema for this project.\n"
      ]
    },
    {
      "cell_type": "code",
      "execution_count": null,
      "metadata": {
        "vscode": {
          "languageId": "sql"
        }
      },
      "outputs": [],
      "source": [
        "-- Create database if it doesn't exist\n",
        "CREATE DATABASE IF NOT EXISTS pdf_ocr_demo;\n",
        "USE DATABASE pdf_ocr_demo;\n"
      ]
    },
    {
      "cell_type": "code",
      "execution_count": null,
      "metadata": {
        "vscode": {
          "languageId": "sql"
        }
      },
      "outputs": [],
      "source": [
        "-- Create schema if it doesn't exist\n",
        "CREATE SCHEMA IF NOT EXISTS public;\n",
        "USE SCHEMA public;\n"
      ]
    },
    {
      "cell_type": "markdown",
      "metadata": {},
      "source": [
        "## Step 3: Create Stage for PDF Storage\n",
        "\n",
        "Stages in Snowflake are locations where data files are stored. We'll create an internal stage to hold our PDF documents.\n"
      ]
    },
    {
      "cell_type": "code",
      "execution_count": null,
      "metadata": {
        "vscode": {
          "languageId": "sql"
        }
      },
      "outputs": [],
      "source": [
        "-- Create internal stage for PDF files\n",
        "CREATE STAGE IF NOT EXISTS pdf\n",
        "COMMENT = 'Stage for storing clinical protocol PDFs and other documents';\n"
      ]
    },
    {
      "cell_type": "code",
      "execution_count": null,
      "metadata": {
        "vscode": {
          "languageId": "sql"
        }
      },
      "outputs": [],
      "source": [
        "-- Verify stage was created\n",
        "SHOW STAGES LIKE 'pdf';\n"
      ]
    },
    {
      "cell_type": "markdown",
      "metadata": {},
      "source": [
        "## Step 4: Create PDF Text Mapper UDF\n",
        "\n",
        "This User-Defined Function (UDF) is the core of our solution. Let's break down what it does:\n",
        "\n",
        "### Technology Stack:\n",
        "- **Language:** Python 3.12\n",
        "- **Library:** `pdfminer` - A robust PDF parsing library\n",
        "- **Snowflake Integration:** Uses `SnowflakeFile` to read directly from stages\n",
        "\n",
        "### How It Works:\n",
        "1. Opens the PDF file from the Snowflake stage\n",
        "2. Iterates through each page\n",
        "3. Extracts text boxes (`LTTextBox` objects) from the page layout\n",
        "4. Captures the **bounding box coordinates** (bbox) - specifically:\n",
        "   - `bbox[0]` = x-coordinate (left)\n",
        "   - `bbox[3]` = y-coordinate (top)\n",
        "5. Returns an array of objects: `{pos: (x,y), txt: text}`\n",
        "\n",
        "### Input:\n",
        "- `scoped_file_url`: A Snowflake-generated URL pointing to a file in a stage\n",
        "\n",
        "### Output:\n",
        "- VARCHAR (JSON string) containing array of text boxes with positions\n"
      ]
    },
    {
      "cell_type": "code",
      "execution_count": null,
      "metadata": {
        "vscode": {
          "languageId": "sql"
        }
      },
      "outputs": [],
      "source": [
        "CREATE OR REPLACE FUNCTION pdf_txt_mapper(scoped_file_url string)\n",
        "RETURNS VARCHAR\n",
        "LANGUAGE PYTHON\n",
        "RUNTIME_VERSION = '3.12'\n",
        "ARTIFACT_REPOSITORY = snowflake.snowpark.pypi_shared_repository\n",
        "PACKAGES = ('snowflake-snowpark-python', 'pdfminer')\n",
        "HANDLER = 'main'\n",
        "AS\n",
        "$$\n",
        "from snowflake.snowpark.files import SnowflakeFile\n",
        "from pdfminer.layout import LAParams, LTTextBox\n",
        "from pdfminer.pdfpage import PDFPage\n",
        "from pdfminer.pdfinterp import PDFResourceManager\n",
        "from pdfminer.pdfinterp import PDFPageInterpreter\n",
        "from pdfminer.converter import PDFPageAggregator\n",
        "\n",
        "def main(scoped_file_url):\n",
        "    finding = []\n",
        "    with SnowflakeFile.open(scoped_file_url, 'rb') as f:\n",
        "        # Initialize PDF processing components\n",
        "        rsrcmgr = PDFResourceManager()\n",
        "        laparams = LAParams()  # Layout analysis parameters\n",
        "        device = PDFPageAggregator(rsrcmgr, laparams=laparams)\n",
        "        interpreter = PDFPageInterpreter(rsrcmgr, device)\n",
        "        pages = PDFPage.get_pages(f)\n",
        "        \n",
        "        # Process each page\n",
        "        for page in pages:\n",
        "            interpreter.process_page(page)\n",
        "            layout = device.get_result()\n",
        "            \n",
        "            # Extract text boxes from the page\n",
        "            for lobj in layout:\n",
        "                if isinstance(lobj, LTTextBox):\n",
        "                    # bbox = (x0, y0, x1, y1) where (x0,y0) is bottom-left, (x1,y1) is top-right\n",
        "                    x, y, text = lobj.bbox[0], lobj.bbox[3], lobj.get_text()\n",
        "                    finding += [{'pos': (x, y), 'txt': text}]\n",
        "    \n",
        "    return str(finding)\n",
        "$$;\n"
      ]
    },
    {
      "cell_type": "code",
      "execution_count": null,
      "metadata": {
        "vscode": {
          "languageId": "sql"
        }
      },
      "outputs": [],
      "source": [
        "-- Verify function was created\n",
        "SHOW FUNCTIONS LIKE 'pdf_txt_mapper';\n"
      ]
    },
    {
      "cell_type": "markdown",
      "metadata": {},
      "source": [
        "## Step 5: Upload PDF to Stage\n",
        "\n",
        "### Instructions:\n",
        "\n",
        "**Option 1: Using SnowSQL CLI**\n",
        "```bash\n",
        "snowsql -a <account> -u <username>\n",
        "PUT file:///Users/akelkar/src/Cursor/pdf-ocr-with-position/Prot_000.pdf @pdf_ocr_demo.public.pdf AUTO_COMPRESS=FALSE;\n",
        "```\n",
        "\n",
        "**Option 2: Using Snowflake Web UI**\n",
        "1. Navigate to Data → Databases → PDF_OCR_DEMO → PUBLIC → Stages\n",
        "2. Click on the `PDF` stage\n",
        "3. Click \"+ Files\" button in the top right\n",
        "4. Upload `Prot_000.pdf`\n",
        "\n",
        "**Option 3: Using Python Snowpark**\n",
        "```python\n",
        "session.file.put(\"Prot_000.pdf\", \"@pdf\", auto_compress=False)\n",
        "```\n",
        "\n",
        "Let's verify the file after upload:\n"
      ]
    },
    {
      "cell_type": "code",
      "execution_count": null,
      "metadata": {
        "vscode": {
          "languageId": "sql"
        }
      },
      "outputs": [],
      "source": [
        "-- List files in the PDF stage\n",
        "LIST @pdf;\n"
      ]
    },
    {
      "cell_type": "markdown",
      "metadata": {},
      "source": [
        "## Step 6: Test the PDF Text Mapper\n",
        "\n",
        "Now let's test our function with the uploaded PDF.\n",
        "\n",
        "### What to Expect:\n",
        "- The function will return a VARCHAR (string representation of a Python list)\n",
        "- Each element will be: `{'pos': (x, y), 'txt': 'extracted text'}`\n",
        "- The output will be **very long** for multi-page documents\n",
        "\n",
        "### Note on `build_scoped_file_url()`:\n",
        "This Snowflake function generates a temporary, scoped URL that allows the UDF to securely access the staged file.\n"
      ]
    },
    {
      "cell_type": "code",
      "execution_count": null,
      "metadata": {
        "vscode": {
          "languageId": "sql"
        }
      },
      "outputs": [],
      "source": [
        "-- Test with the clinical protocol PDF\n",
        "-- This will return the full extracted text with positions\n",
        "SELECT pdf_txt_mapper(build_scoped_file_url(@pdf, 'Prot_000.pdf')) AS extracted_data;\n"
      ]
    },
    {
      "cell_type": "markdown",
      "metadata": {},
      "source": [
        "## Step 7: Analyze the Output\n",
        "\n",
        "Let's get some basic statistics about what was extracted.\n"
      ]
    },
    {
      "cell_type": "code",
      "execution_count": null,
      "metadata": {
        "vscode": {
          "languageId": "sql"
        }
      },
      "outputs": [],
      "source": [
        "-- Get the length of the output\n",
        "SELECT \n",
        "    LENGTH(pdf_txt_mapper(build_scoped_file_url(@pdf, 'Prot_000.pdf'))) AS output_length_chars,\n",
        "    LENGTH(pdf_txt_mapper(build_scoped_file_url(@pdf, 'Prot_000.pdf'))) / 1024 AS output_length_kb;\n"
      ]
    },
    {
      "cell_type": "markdown",
      "metadata": {},
      "source": [
        "## Phase 0 Summary\n",
        "\n",
        "### ✅ What We've Accomplished:\n",
        "1. Set up Snowflake environment with proper roles and permissions\n",
        "2. Created a stage for storing PDF documents\n",
        "3. Deployed the FCTO's baseline PDF text mapper UDF\n",
        "4. Extracted text from a clinical protocol PDF with position information\n",
        "\n",
        "### 📊 Current Output Format:\n",
        "```python\n",
        "[{'pos': (54.0, 720.3), 'txt': 'CLINICAL PROTOCOL\\n'}, \n",
        " {'pos': (72.0, 680.1), 'txt': 'Study Title: ...\\n'},\n",
        " ...]\n",
        "```\n",
        "\n",
        "### 🎯 What This Gives Us:\n",
        "- ✅ Text extraction from PDFs\n",
        "- ✅ X,Y coordinates for each text box\n",
        "- ✅ Snowflake-native processing (no external services)\n",
        "\n",
        "### ⚠️ Current Limitations:\n",
        "- ❌ No page number information\n",
        "- ❌ No section/hierarchy detection\n",
        "- ❌ Text boxes may be too granular or broken\n",
        "- ❌ Output is a string, not structured data we can query\n",
        "- ❌ No way to answer \"Where did this info come from?\"\n",
        "\n",
        "---\n",
        "\n",
        "## Next Steps: Phase 1\n",
        "In the next phase, we'll enhance this solution to:\n",
        "1. **Add page numbers** to each text box\n",
        "2. Store results in a **queryable table** instead of a string\n",
        "3. Add a **unique chunk ID** for each text box\n",
        "\n",
        "This will enable queries like:\n",
        "```sql\n",
        "SELECT * FROM document_chunks \n",
        "WHERE page = 5 \n",
        "AND txt ILIKE '%medication%';\n",
        "```\n"
      ]
    },
    {
      "cell_type": "markdown",
      "metadata": {},
      "source": [
        "## Troubleshooting\n",
        "\n",
        "### Common Issues:\n",
        "\n",
        "**1. Permission Error on PyPI:**\n",
        "```\n",
        "Error: Access denied for database role SNOWFLAKE.PYPI_REPOSITORY_USER\n",
        "```\n",
        "**Solution:** Make sure you ran the GRANT command as ACCOUNTADMIN\n",
        "\n",
        "**2. File Not Found:**\n",
        "```\n",
        "Error: File 'Prot_000.pdf' does not exist\n",
        "```\n",
        "**Solution:** Verify the file was uploaded with `LIST @pdf;`\n",
        "\n",
        "**3. Function Takes Too Long:**\n",
        "- Large PDFs (100+ pages) can take 30-60 seconds\n",
        "- This is normal for the initial processing\n",
        "- Consider processing in batches for very large documents\n",
        "\n",
        "**4. Memory Issues:**\n",
        "- For very large PDFs (500+ pages), you may need to increase warehouse size\n",
        "- Or split the PDF into smaller chunks before processing\n"
      ]
    }
  ],
  "metadata": {
    "kernelspec": {
      "display_name": "Snowflake",
      "language": "sql",
      "name": "snowflake"
    },
    "language_info": {
      "name": "sql",
      "version": ""
    }
  },
  "nbformat": 4,
  "nbformat_minor": 2
}
